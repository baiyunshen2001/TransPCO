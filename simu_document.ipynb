{
 "cells": [
  {
   "cell_type": "markdown",
   "id": "29b8e96a-4c03-4f9e-b676-346580761b75",
   "metadata": {},
   "source": [
    "## Simulation Settings"
   ]
  },
  {
   "cell_type": "markdown",
   "id": "6fed06e1-d472-4c93-bfac-a764437ab10f",
   "metadata": {},
   "source": [
    "We used a real gene module having 263 genes from the ODE dataset in our simulations. The correlation matrix for these 263 genes is denoted as $\\Sigma_{263}$. To generate Z scores for 263 SNPs under the null hypothesis, we modeled them as $Z_{null} \\sim N(0,\\Sigma_{263})$. Our simulations aimed to evaluate the statistical power of trans-PCO, a univariate test (MinP) and a principal component-based test (PC1)."
   ]
  },
  {
   "cell_type": "markdown",
   "id": "70736f8e-8bc2-4658-9eb5-7f3370ffd233",
   "metadata": {},
   "source": [
    "The test statistic for the PC1 method is defined as $$T_{PC1}=\\mu_{1}^T Z \\sim N \\left ( \\mu_{1}^T \\beta ,\\lambda _1 \\right)$$ where Z is the vector of Z scores between the SNPs and each individual gene, $\\mu_1$ is the first eigenvector of the covariance matrix $\\Sigma_K$ of the K genes, $\\lambda_1$ is the corresponding eigenvalue, and $\\beta$ represents the true causal effect.\n",
    "\n",
    "For the MinP method, the test statistic is $$T_{MinP}=min(p_1,p_2,\\dots ,p_k)$$ where $p_i$ indicates the association p-value (Chi-square test) of gene i. The p-value of the MinP test statistic is calculated as $P_{MinP}=T_{MinP} \\times K$ applying the Bonferroni correction to account for multiple testing."
   ]
  },
  {
   "cell_type": "markdown",
   "id": "3e6601d0-8bd5-4716-810f-59b4a060e3c4",
   "metadata": {},
   "source": [
    "In power simulations, we simulated 1000 Z scores of SNPs from the alternative distribution $$Z_{Alt}\\sim N(\\sqrt{n} [\\beta _{263\\gamma},0]^T,\\Sigma_{263} )$$ where n is the sample size, $\\beta$ is a 263$\\gamma$-long vector representing the causal effect of an SNP on 263 genes, and $\\gamma$ is the proportion of true target genes in the module with non-zero effects. We generated $\\beta_k$ from a point normal distribution, where $\\beta_k \\sim N(0,\\sigma_b^2)$ for pro\u0002portion $\\gamma$, and $\\beta_k =0$, otherwise."
   ]
  },
  {
   "cell_type": "markdown",
   "id": "9b59a9cc-00be-419c-ad8b-a3ebbd261bd9",
   "metadata": {},
   "source": [
    "To assess the performance of three statistical tests across different genetic architectures, we conducted simulations with varying sample sizes. The sample sizes examined were 200, 400, 600, and 800. We maintained a significance level equivalent to a 10% False Discovery Rate (FDR) to align with standard practices in real data analysis. Power was calculated as the average proportion of tests that were deemed significant out of 10000 simulated SNPs, repeated across 100 simulations. A test result was considered significant if its adjusted p-value was less than 0.1."
   ]
  }
 ],
 "metadata": {
  "kernelspec": {
   "display_name": "R",
   "language": "R",
   "name": "ir"
  },
  "language_info": {
   "codemirror_mode": "r",
   "file_extension": ".r",
   "mimetype": "text/x-r-source",
   "name": "R",
   "pygments_lexer": "r",
   "version": "4.1.1"
  }
 },
 "nbformat": 4,
 "nbformat_minor": 5
}
